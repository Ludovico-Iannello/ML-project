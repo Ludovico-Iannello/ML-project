{
 "cells": [
  {
   "cell_type": "code",
   "execution_count": 1,
   "metadata": {},
   "outputs": [],
   "source": [
    "import matplotlib.pyplot as plt\n",
    "import numpy as np\n",
    "import pandas as pd\n",
    "from sklearn.model_selection import GridSearchCV\n",
    "\n",
    "from sklearn.neighbors import KNeighborsClassifier\n",
    "from sklearn import metrics \n",
    "from sklearn.model_selection import RepeatedStratifiedKFold\n",
    "from sklearn.preprocessing import OneHotEncoder"
   ]
  },
  {
   "cell_type": "markdown",
   "metadata": {},
   "source": [
    "## MONK 1"
   ]
  },
  {
   "cell_type": "code",
   "execution_count": 14,
   "metadata": {},
   "outputs": [],
   "source": [
    "path=r'/home/ludovico/ML-project/data/monks-1'\n",
    "monk1_train = pd.read_csv(path+'.train', header=None, delim_whitespace=True, dtype=str)\n",
    "monk1_test = pd.read_csv(path+'.test', header=None, delim_whitespace=True, dtype=str)\n",
    "\n",
    "y_train=monk1_train[0]\n",
    "x_train=monk1_train[monk1_train.columns[1:-1]]\n",
    "\n",
    "y_test=monk1_test[0]\n",
    "x_test=monk1_test[monk1_train.columns[1:-1]]\n",
    "\n",
    "x_test_not_enc=x_test\n",
    "x_train_not_enc=x_train\n",
    "\n",
    "encoder = OneHotEncoder(sparse_output=False)\n",
    "x_train = encoder.fit_transform(x_train)\n",
    "x_test = encoder.fit_transform(x_test)\n"
   ]
  },
  {
   "cell_type": "code",
   "execution_count": 15,
   "metadata": {},
   "outputs": [],
   "source": [
    "estimator_KNN = KNeighborsClassifier(algorithm='auto')\n",
    "n_neigh=np.arange(1,50,1)\n",
    "parameters_KNN = {\n",
    "    'n_neighbors': n_neigh,\n",
    "    'weights': ('uniform','distance'),\n",
    "    'metric':('cosine','minkowski'),\n",
    "    'p': [1,2,3,5,7]\n",
    "}        \n",
    "# with GridSearch\n",
    "grid_search_KNN = GridSearchCV(\n",
    "    estimator=estimator_KNN,\n",
    "    param_grid=parameters_KNN,\n",
    "    scoring = 'accuracy',\n",
    "    cv=RepeatedStratifiedKFold(n_splits=5, n_repeats=10, random_state=0),\n",
    "    n_jobs=-1,\n",
    "    return_train_score = True,\n",
    "    refit=True,\n",
    ")\n",
    "\n",
    "grid_search_KNN_2 = GridSearchCV(\n",
    "    estimator=estimator_KNN,\n",
    "    param_grid=parameters_KNN,\n",
    "    scoring = 'accuracy',\n",
    "    cv=RepeatedStratifiedKFold(n_splits=5, n_repeats=10, random_state=0),\n",
    "    n_jobs=-1,\n",
    "    return_train_score = True,\n",
    "    refit=True,\n",
    ")"
   ]
  },
  {
   "cell_type": "code",
   "execution_count": 16,
   "metadata": {},
   "outputs": [
    {
     "name": "stdout",
     "output_type": "stream",
     "text": [
      "encoded {'metric': 'cosine', 'n_neighbors': 11, 'p': 1, 'weights': 'distance'}\n",
      "not encoded {'metric': 'cosine', 'n_neighbors': 22, 'p': 1, 'weights': 'distance'}\n",
      "Best Score Encoded - Validation: 0.8079999999999999\n",
      "Best Score not Encoded- Validation: 0.8371333333333334\n",
      "Train accuracy: 1.0 +/- 0.0\n",
      "validation accuracy: 0.8371333333333334 +/- 0.0678536333261201\n"
     ]
    }
   ],
   "source": [
    "KNN_1=grid_search_KNN.fit(x_train, y_train)\n",
    "KNN_2=grid_search_KNN_2.fit(x_train_not_enc, y_train)\n",
    "\n",
    "print('encoded',KNN_1.best_params_)\n",
    "print('not encoded',KNN_2.best_params_) \n",
    "\n",
    "best1=KNN_1.best_score_\n",
    "best2=KNN_2.best_score_\n",
    "\n",
    "print('Best Score Encoded - Validation:', best1 )\n",
    "print('Best Score not Encoded- Validation:', best2 )\n",
    "\n",
    "if best1>best2:\n",
    "    KNN=KNN_1\n",
    "else:\n",
    "    KNN=KNN_2\n",
    "    x_test=x_test_not_enc\n",
    "\n",
    "cv_results_df = pd.DataFrame(KNN.cv_results_)\n",
    "best_model_index=KNN.best_index_\n",
    "\n",
    "val_acc=cv_results_df['mean_test_score'][best_model_index]\n",
    "val_std=cv_results_df['std_test_score'][best_model_index]\n",
    "train_acc=cv_results_df['mean_train_score'][best_model_index]\n",
    "train_std=cv_results_df['std_train_score'][best_model_index]\n",
    "\n",
    "print('Train accuracy:',train_acc,'+/-', train_std)\n",
    "print('validation accuracy:',val_acc,'+/-', val_std)"
   ]
  },
  {
   "cell_type": "markdown",
   "metadata": {},
   "source": [
    "## Model assessment"
   ]
  },
  {
   "cell_type": "code",
   "execution_count": 17,
   "metadata": {},
   "outputs": [
    {
     "name": "stdout",
     "output_type": "stream",
     "text": [
      "Accuracy Score - KNN - Test-error: 0.8055555555555556\n",
      "\n",
      " Classification report               precision    recall  f1-score   support\n",
      "\n",
      "           0       0.81      0.81      0.81       216\n",
      "           1       0.81      0.81      0.81       216\n",
      "\n",
      "    accuracy                           0.81       432\n",
      "   macro avg       0.81      0.81      0.81       432\n",
      "weighted avg       0.81      0.81      0.81       432\n",
      "\n"
     ]
    },
    {
     "data": {
      "image/png": "[encoded data removed]",
      "text/plain": [
       "<Figure size 640x480 with 2 Axes>"
      ]
     },
     "metadata": {},
     "output_type": "display_data"
    }
   ],
   "source": [
    "y_pred_KNN =KNN.predict(x_test)\n",
    "\n",
    "print('Accuracy Score - KNN - Test-error:', metrics.accuracy_score(y_test, y_pred_KNN))  \n",
    "\n",
    "print('\\n Classification report',metrics.classification_report(y_test, y_pred_KNN))\n",
    "\n",
    "cm = metrics.confusion_matrix(y_test, y_pred_KNN, labels=KNN.classes_)\n",
    "disp = metrics.ConfusionMatrixDisplay(confusion_matrix=cm,\n",
    "                               display_labels=KNN.classes_)\n",
    "disp.plot()\n",
    "plt.show()"
   ]
  },
  {
   "cell_type": "markdown",
   "metadata": {},
   "source": [
    "## MONK 2"
   ]
  },
  {
   "cell_type": "code",
   "execution_count": 18,
   "metadata": {},
   "outputs": [],
   "source": [
    "path=r'/home/ludovico/ML-project/data/monks-2'\n",
    "monk1_train = pd.read_csv(path+'.train', header=None, delim_whitespace=True, dtype=str)\n",
    "monk1_test = pd.read_csv(path+'.test', header=None, delim_whitespace=True, dtype=str)\n",
    "\n",
    "y_train=monk1_train[0]\n",
    "x_train=monk1_train[monk1_train.columns[1:-1]]\n",
    "\n",
    "y_test=monk1_test[0]\n",
    "x_test=monk1_test[monk1_train.columns[1:-1]]\n",
    "\n",
    "x_test_not_enc=x_test\n",
    "x_train_not_enc=x_train\n",
    "\n",
    "encoder = OneHotEncoder(sparse_output=False)\n",
    "x_train = encoder.fit_transform(x_train)\n",
    "x_test = encoder.fit_transform(x_test)"
   ]
  },
  {
   "cell_type": "code",
   "execution_count": 19,
   "metadata": {},
   "outputs": [],
   "source": [
    "estimator_KNN = KNeighborsClassifier(algorithm='auto')\n",
    "n_neigh=np.arange(1,50,1)\n",
    "parameters_KNN = {\n",
    "    'n_neighbors': n_neigh,\n",
    "    'weights': ('uniform','distance'),\n",
    "    'metric':('cosine','minkowski'),\n",
    "    'p': [1,2,3,5,7]\n",
    "}         \n",
    "# with GridSearch\n",
    "grid_search_KNN = GridSearchCV(\n",
    "    estimator=estimator_KNN,\n",
    "    param_grid=parameters_KNN,\n",
    "    scoring = 'accuracy',\n",
    "    cv=RepeatedStratifiedKFold(n_splits=5, n_repeats=10, random_state=0),\n",
    "    n_jobs=-1,\n",
    "    return_train_score = True\n",
    ")\n",
    "\n",
    "grid_search_KNN_2 = GridSearchCV(\n",
    "    estimator=estimator_KNN,\n",
    "    param_grid=parameters_KNN,\n",
    "    scoring = 'accuracy',\n",
    "    cv=RepeatedStratifiedKFold(n_splits=5, n_repeats=10, random_state=0),\n",
    "    n_jobs=-1,\n",
    "    return_train_score = True\n",
    ")"
   ]
  },
  {
   "cell_type": "code",
   "execution_count": 20,
   "metadata": {},
   "outputs": [
    {
     "name": "stdout",
     "output_type": "stream",
     "text": [
      "encoded {'metric': 'cosine', 'n_neighbors': 25, 'p': 1, 'weights': 'uniform'}\n",
      "not encoded {'metric': 'cosine', 'n_neighbors': 1, 'p': 1, 'weights': 'uniform'}\n",
      "Best Score Encoded - Validation: 0.6384670231729056\n",
      "Best Score not Encoded- Validation: 0.7953297682709448\n",
      "Train accuracy: 1.0 +/- 0.0\n",
      "validation accuracy: 0.7953297682709448 +/- 0.05768403145787359\n"
     ]
    }
   ],
   "source": [
    "KNN_1=grid_search_KNN.fit(x_train, y_train)\n",
    "KNN_2=grid_search_KNN_2.fit(x_train_not_enc, y_train)\n",
    "\n",
    "print('encoded',KNN_1.best_params_)\n",
    "print('not encoded',KNN_2.best_params_) \n",
    "\n",
    "best1=KNN_1.best_score_\n",
    "best2=KNN_2.best_score_\n",
    "\n",
    "print('Best Score Encoded - Validation:', best1 )\n",
    "print('Best Score not Encoded- Validation:', best2 )\n",
    "\n",
    "if best1>best2:\n",
    "    KNN=KNN_1\n",
    "else:\n",
    "    KNN=KNN_2\n",
    "    x_test=x_test_not_enc\n",
    "\n",
    "cv_results_df = pd.DataFrame(KNN.cv_results_)\n",
    "best_model_index=KNN.best_index_\n",
    "\n",
    "val_acc=cv_results_df['mean_test_score'][best_model_index]\n",
    "val_std=cv_results_df['std_test_score'][best_model_index]\n",
    "train_acc=cv_results_df['mean_train_score'][best_model_index]\n",
    "train_std=cv_results_df['std_train_score'][best_model_index]\n",
    "\n",
    "print('Train accuracy:',train_acc,'+/-', train_std)\n",
    "print('validation accuracy:',val_acc,'+/-', val_std)"
   ]
  },
  {
   "cell_type": "markdown",
   "metadata": {},
   "source": [
    "## Model assessment"
   ]
  },
  {
   "cell_type": "code",
   "execution_count": 21,
   "metadata": {},
   "outputs": [
    {
     "name": "stdout",
     "output_type": "stream",
     "text": [
      "Accuracy Score - KNN - Test-error: 0.8888888888888888\n",
      "\n",
      " Classification report               precision    recall  f1-score   support\n",
      "\n",
      "           0       0.95      0.88      0.91       290\n",
      "           1       0.79      0.90      0.84       142\n",
      "\n",
      "    accuracy                           0.89       432\n",
      "   macro avg       0.87      0.89      0.88       432\n",
      "weighted avg       0.90      0.89      0.89       432\n",
      "\n"
     ]
    },
    {
     "data": {
      "image/png": "[encoded data removed]",
      "text/plain": [
       "<Figure size 640x480 with 2 Axes>"
      ]
     },
     "metadata": {},
     "output_type": "display_data"
    }
   ],
   "source": [
    "y_pred_KNN =KNN.predict(x_test)\n",
    "\n",
    "print('Accuracy Score - KNN - Test-error:', metrics.accuracy_score(y_test, y_pred_KNN))  \n",
    "\n",
    "print('\\n Classification report',metrics.classification_report(y_test, y_pred_KNN))\n",
    "\n",
    "cm = metrics.confusion_matrix(y_test, y_pred_KNN, labels=KNN.classes_)\n",
    "disp = metrics.ConfusionMatrixDisplay(confusion_matrix=cm,\n",
    "                               display_labels=KNN.classes_)\n",
    "disp.plot()\n",
    "plt.show()"
   ]
  },
  {
   "cell_type": "markdown",
   "metadata": {},
   "source": [
    "## MONK 3"
   ]
  },
  {
   "cell_type": "code",
   "execution_count": 6,
   "metadata": {},
   "outputs": [],
   "source": [
    "path=r'/home/ludovico/ML-project/data/monks-3'\n",
    "monk1_train = pd.read_csv(path+'.train', header=None, delim_whitespace=True, dtype=str)\n",
    "monk1_test = pd.read_csv(path+'.test', header=None, delim_whitespace=True, dtype=str)\n",
    "\n",
    "y_train=monk1_train[0]\n",
    "x_train=monk1_train[monk1_train.columns[1:-1]]\n",
    "\n",
    "y_test=monk1_test[0]\n",
    "x_test=monk1_test[monk1_train.columns[1:-1]]\n",
    "\n",
    "x_test_not_enc=x_test\n",
    "x_train_not_enc=x_train\n",
    "\n",
    "encoder = OneHotEncoder(sparse_output=False)\n",
    "x_train = encoder.fit_transform(x_train)\n",
    "x_test = encoder.fit_transform(x_test)"
   ]
  },
  {
   "cell_type": "code",
   "execution_count": 8,
   "metadata": {},
   "outputs": [],
   "source": [
    "estimator_KNN = KNeighborsClassifier(algorithm='auto')\n",
    "n_neigh=np.arange(1,50,1)\n",
    "parameters_KNN = {\n",
    "    'n_neighbors': n_neigh,\n",
    "    'weights': ('uniform','distance'),\n",
    "    'metric':('cosine','minkowski'),\n",
    "    'p': [1,2,3,5,7]\n",
    "}       \n",
    "# with GridSearch\n",
    "grid_search_KNN = GridSearchCV(\n",
    "    estimator=estimator_KNN,\n",
    "    param_grid=parameters_KNN,\n",
    "    scoring = 'accuracy',\n",
    "    cv=RepeatedStratifiedKFold(n_splits=5, n_repeats=10, random_state=0),\n",
    "    n_jobs=-1,\n",
    "    return_train_score = True\n",
    ")\n",
    "\n",
    "grid_search_KNN_2 = GridSearchCV(\n",
    "    estimator=estimator_KNN,\n",
    "    param_grid=parameters_KNN,\n",
    "    scoring = 'accuracy',\n",
    "    cv=RepeatedStratifiedKFold(n_splits=5, n_repeats=10, random_state=0),\n",
    "    n_jobs=-1,\n",
    "    return_train_score = True\n",
    ")"
   ]
  },
  {
   "cell_type": "code",
   "execution_count": 9,
   "metadata": {},
   "outputs": [
    {
     "name": "stdout",
     "output_type": "stream",
     "text": [
      "encoded {'metric': 'l1', 'n_neighbors': 47, 'weights': 'distance'}\n",
      "not encoded {'metric': 'l1', 'n_neighbors': 13, 'weights': 'distance'}\n",
      "Best Score Encoded - Validation: 0.9188666666666666\n",
      "Best Score not Encoded- Validation: 0.8942999999999999\n",
      "Train accuracy: 1.0 +/- 0.0\n",
      "validation accuracy: 0.9188666666666666 +/- 0.05140086467063457\n"
     ]
    }
   ],
   "source": [
    "KNN_1=grid_search_KNN.fit(x_train, y_train)\n",
    "KNN_2=grid_search_KNN_2.fit(x_train_not_enc, y_train)\n",
    "\n",
    "print('encoded',KNN_1.best_params_)\n",
    "print('not encoded',KNN_2.best_params_) \n",
    "\n",
    "best1=KNN_1.best_score_\n",
    "best2=KNN_2.best_score_\n",
    "\n",
    "print('Best Score Encoded - Validation:', best1 )\n",
    "print('Best Score not Encoded- Validation:', best2 )\n",
    "\n",
    "if best1>best2:\n",
    "    KNN=KNN_1\n",
    "else:\n",
    "    KNN=KNN_2\n",
    "    x_test=x_test_not_enc\n",
    "\n",
    "cv_results_df = pd.DataFrame(KNN.cv_results_)\n",
    "best_model_index=KNN.best_index_\n",
    "\n",
    "val_acc=cv_results_df['mean_test_score'][best_model_index]\n",
    "val_std=cv_results_df['std_test_score'][best_model_index]\n",
    "train_acc=cv_results_df['mean_train_score'][best_model_index]\n",
    "train_std=cv_results_df['std_train_score'][best_model_index]\n",
    "\n",
    "print('Train accuracy:',train_acc,'+/-', train_std)\n",
    "print('validation accuracy:',val_acc,'+/-', val_std)"
   ]
  },
  {
   "cell_type": "markdown",
   "metadata": {},
   "source": [
    "## Model assessment"
   ]
  },
  {
   "cell_type": "code",
   "execution_count": 10,
   "metadata": {},
   "outputs": [
    {
     "name": "stdout",
     "output_type": "stream",
     "text": [
      "Accuracy Score - KNN - Test-error: 0.9513888888888888\n",
      "\n",
      " Classification report               precision    recall  f1-score   support\n",
      "\n",
      "           0       0.93      0.98      0.95       204\n",
      "           1       0.98      0.93      0.95       228\n",
      "\n",
      "    accuracy                           0.95       432\n",
      "   macro avg       0.95      0.95      0.95       432\n",
      "weighted avg       0.95      0.95      0.95       432\n",
      "\n"
     ]
    },
    {
     "data": {
      "image/png": "[encoded data removed]",
      "text/plain": [
       "<Figure size 640x480 with 2 Axes>"
      ]
     },
     "metadata": {},
     "output_type": "display_data"
    }
   ],
   "source": [
    "y_pred_KNN =KNN.predict(x_test)\n",
    "\n",
    "print('Accuracy Score - KNN - Test-error:', metrics.accuracy_score(y_test, y_pred_KNN))  \n",
    "\n",
    "print('\\n Classification report',metrics.classification_report(y_test, y_pred_KNN))\n",
    "\n",
    "cm = metrics.confusion_matrix(y_test, y_pred_KNN, labels=KNN.classes_)\n",
    "disp = metrics.ConfusionMatrixDisplay(confusion_matrix=cm,\n",
    "                               display_labels=KNN.classes_)\n",
    "disp.plot()\n",
    "plt.show()"
   ]
  }
 ],
 "metadata": {
  "kernelspec": {
   "display_name": "Python 3",
   "language": "python",
   "name": "python3"
  },
  "language_info": {
   "codemirror_mode": {
    "name": "ipython",
    "version": 3
   },
   "file_extension": ".py",
   "mimetype": "text/x-python",
   "name": "python",
   "nbconvert_exporter": "python",
   "pygments_lexer": "ipython3",
   "version": "3.10.12"
  }
 },
 "nbformat": 4,
 "nbformat_minor": 2
}
