{
 "cells": [
  {
   "cell_type": "markdown",
   "metadata": {},
   "source": [
    "## SVM Monk 2"
   ]
  },
  {
   "cell_type": "code",
   "execution_count": 11,
   "metadata": {},
   "outputs": [],
   "source": [
    "import matplotlib.pyplot as plt\n",
    "import numpy as np\n",
    "import pandas as pd\n",
    "from sklearn.model_selection import GridSearchCV\n",
    "\n",
    "from sklearn import metrics \n",
    "from sklearn.model_selection import RepeatedStratifiedKFold\n",
    "from sklearn.svm import SVC\n",
    "from sklearn.preprocessing import StandardScaler\n",
    "from sklearn.preprocessing import OneHotEncoder"
   ]
  },
  {
   "cell_type": "code",
   "execution_count": 12,
   "metadata": {},
   "outputs": [],
   "source": [
    "path=r'/home/ludovico/ML-project/data/monks-2'\n",
    "monk1_train = pd.read_csv(path+'.train', header=None, delim_whitespace=True, dtype=str)\n",
    "monk1_test = pd.read_csv(path+'.test', header=None, delim_whitespace=True, dtype=str)\n",
    "\n",
    "y_train=monk1_train[0]\n",
    "x_train=monk1_train[monk1_train.columns[1:-1]]\n",
    "\n",
    "y_test=monk1_test[0]\n",
    "x_test=monk1_test[monk1_train.columns[1:-1]]\n",
    "\n",
    "x_test_not_enc=x_test\n",
    "x_train_not_enc=x_train\n",
    "\n",
    "encoder = OneHotEncoder(sparse_output=False)\n",
    "x_train = encoder.fit_transform(x_train)\n",
    "x_test = encoder.fit_transform(x_test)\n",
    "\n",
    "best_model_kernel=[]\n",
    "enc=[]"
   ]
  },
  {
   "cell_type": "markdown",
   "metadata": {},
   "source": [
    "## SVM polynomial "
   ]
  },
  {
   "cell_type": "code",
   "execution_count": null,
   "metadata": {},
   "outputs": [],
   "source": [
    "estimator_SVC= SVC()\n",
    "\n",
    "C=np.logspace(-3,3,4)\n",
    "gamma=np.logspace(-3,3,6)\n",
    "coef=np.linspace(-10,10,5)\n",
    "deg=np.arange(2,5,1)\n",
    "\n",
    "parameters_SVM_poly= {\n",
    "    'C':C,\n",
    "    'kernel': ['poly'],\n",
    "    'gamma':gamma,\n",
    "    'coef0': coef ,\n",
    "    'degree': deg ,\n",
    "    'max_iter': [100000]  \n",
    "}          \n",
    "\n",
    "\n",
    "grid_search = GridSearchCV(\n",
    "    estimator=estimator_SVC,\n",
    "    param_grid=parameters_SVM_poly,\n",
    "    scoring = 'accuracy',\n",
    "    cv=RepeatedStratifiedKFold(n_splits=5, n_repeats=10, random_state=0),\n",
    "    n_jobs=-1,\n",
    "    return_train_score = True,\n",
    "    refit=True,\n",
    "    \n",
    ")\n",
    "\n",
    "grid_search_2 = GridSearchCV(\n",
    "    estimator=estimator_SVC,\n",
    "    param_grid=parameters_SVM_poly,\n",
    "    scoring = 'accuracy',\n",
    "    cv=RepeatedStratifiedKFold(n_splits=5, n_repeats=10, random_state=0),\n",
    "    n_jobs=-1,\n",
    "    return_train_score = True,\n",
    "    refit=True,\n",
    "   \n",
    ")\n",
    "\n",
    "SVM_1=grid_search.fit(x_train, y_train)\n",
    "SVM_2=grid_search_2.fit(x_train_not_enc, y_train)"
   ]
  },
  {
   "cell_type": "code",
   "execution_count": 14,
   "metadata": {},
   "outputs": [
    {
     "name": "stdout",
     "output_type": "stream",
     "text": [
      "encoded {'C': 10.0, 'coef0': -5.0, 'degree': 2, 'gamma': 3.981071705534969, 'kernel': 'poly', 'max_iter': 100000}\n",
      "not encoded {'C': 10.0, 'coef0': -5.0, 'degree': 2, 'gamma': 3.981071705534969, 'kernel': 'poly', 'max_iter': 100000}\n",
      "Best Score Encoded - Validation: 0.9315329768270945\n",
      "Best Score not Encoded- Validation: 0.9315329768270945\n",
      "\n",
      " best model: not encoded \n",
      "\n",
      "Train accuracy: 1.0 +/- 0.0\n",
      "validation accuracy: 0.9315329768270945 +/- 0.08412464997315867\n"
     ]
    }
   ],
   "source": [
    "print('encoded',SVM_1.best_params_)\n",
    "print('not encoded',SVM_2.best_params_) \n",
    "\n",
    "best1=SVM_1.best_score_\n",
    "best2=SVM_2.best_score_\n",
    "\n",
    "print('Best Score Encoded - Validation:', best1 )\n",
    "print('Best Score not Encoded- Validation:', best2 )\n",
    "\n",
    "if best1>best2:\n",
    "    SVM_poly=SVM_1\n",
    "    enc_poly='Yes'\n",
    "    print('\\n best model: encoded \\n')\n",
    "else:\n",
    "    SVM_poly=SVM_2\n",
    "    enc_poly='No'\n",
    "    print('\\n best model: not encoded \\n')\n",
    "\n",
    "cv_results_df = pd.DataFrame(SVM_poly.cv_results_)\n",
    "best_model_index=SVM_poly.best_index_\n",
    "\n",
    "val_acc=cv_results_df['mean_test_score'][best_model_index]\n",
    "val_std=cv_results_df['std_test_score'][best_model_index]\n",
    "train_acc=cv_results_df['mean_train_score'][best_model_index]\n",
    "train_std=cv_results_df['std_train_score'][best_model_index]\n",
    "\n",
    "print('Train accuracy:',train_acc,'+/-', train_std)\n",
    "print('validation accuracy:',val_acc,'+/-', val_std)\n",
    "\n",
    "best_model_kernel.append(SVM_poly)\n",
    "enc.append(enc_poly)\n"
   ]
  },
  {
   "cell_type": "markdown",
   "metadata": {},
   "source": [
    "## SVM RBF"
   ]
  },
  {
   "cell_type": "code",
   "execution_count": 5,
   "metadata": {},
   "outputs": [],
   "source": [
    "estimator_svm = SVC()\n",
    "C=np.logspace(-3,5,10)\n",
    "\n",
    "gamma=(0.001,0.01,0.1,10,100,1000)\n",
    "\n",
    "\n",
    "#rbf kernel parameters\n",
    "parameters_SVM_rbf= {\n",
    "    'C':C,\n",
    "    'kernel': ['rbf'],\n",
    "    'gamma':gamma,\n",
    "    #'max_iter':[1000000]\n",
    "}    \n",
    "\n",
    "# with GridSearch\n",
    "grid_search = GridSearchCV(\n",
    "    estimator=estimator_SVC,\n",
    "    param_grid=parameters_SVM_rbf,\n",
    "    scoring = 'accuracy',\n",
    "    cv=RepeatedStratifiedKFold(n_splits=5, n_repeats=10, random_state=0),\n",
    "    n_jobs=-1,\n",
    "    return_train_score = True,\n",
    "    refit=True,\n",
    "    \n",
    ")\n",
    "\n",
    "grid_search_2 = GridSearchCV(\n",
    "    estimator=estimator_SVC,\n",
    "    param_grid=parameters_SVM_rbf,\n",
    "    scoring = 'accuracy',\n",
    "    cv=RepeatedStratifiedKFold(n_splits=5, n_repeats=10, random_state=0),\n",
    "    n_jobs=-1,\n",
    "    return_train_score = True,\n",
    "    refit=True,\n",
    ")\n",
    "\n",
    "SVM_1=grid_search.fit(x_train, y_train)\n",
    "SVM_2=grid_search_2.fit(x_train_not_enc, y_train)"
   ]
  },
  {
   "cell_type": "code",
   "execution_count": 6,
   "metadata": {},
   "outputs": [
    {
     "name": "stdout",
     "output_type": "stream",
     "text": [
      "encoded {'C': 12915.496650148827, 'gamma': 0.01, 'kernel': 'rbf'}\n",
      "not encoded {'C': 1668.1005372000557, 'gamma': 0.1, 'kernel': 'rbf'}\n",
      "Best Score Encoded - Validation: 0.8643493761140821\n",
      "Best Score not Encoded- Validation: 0.7639928698752227\n",
      "\n",
      " best model: encoded \n",
      "\n",
      "Train accuracy: 1.0 +/- 0.0\n",
      "validation accuracy: 0.8643493761140821 +/- 0.1226070515652121\n"
     ]
    }
   ],
   "source": [
    "print('encoded',SVM_1.best_params_)\n",
    "print('not encoded',SVM_2.best_params_) \n",
    "\n",
    "best1=SVM_1.best_score_\n",
    "best2=SVM_2.best_score_\n",
    "\n",
    "print('Best Score Encoded - Validation:', best1 )\n",
    "print('Best Score not Encoded- Validation:', best2 )\n",
    "\n",
    "if best1>best2:\n",
    "    SVM_rbf=SVM_1\n",
    "    enc_rbf='Yes'\n",
    "    print('\\n best model: encoded \\n')\n",
    "else:\n",
    "    SVM_rbf=SVM_2\n",
    "    enc_rbf='No'\n",
    "    print('\\n best model: not encoded \\n')\n",
    "\n",
    "cv_results_df = pd.DataFrame(SVM_rbf.cv_results_)\n",
    "best_model_index=SVM_rbf.best_index_\n",
    "\n",
    "val_acc=cv_results_df['mean_test_score'][best_model_index]\n",
    "val_std=cv_results_df['std_test_score'][best_model_index]\n",
    "train_acc=cv_results_df['mean_train_score'][best_model_index]\n",
    "train_std=cv_results_df['std_train_score'][best_model_index]\n",
    "\n",
    "print('Train accuracy:',train_acc,'+/-', train_std)\n",
    "print('validation accuracy:',val_acc,'+/-', val_std)\n",
    "\n",
    "best_model_kernel.append(SVM_rbf)\n",
    "enc.append(enc_rbf)"
   ]
  },
  {
   "cell_type": "markdown",
   "metadata": {},
   "source": [
    "## SVM Sigmoid"
   ]
  },
  {
   "cell_type": "code",
   "execution_count": 7,
   "metadata": {},
   "outputs": [],
   "source": [
    "estimator_svm = SVC()\n",
    "\n",
    "C=np.logspace(-4,4,20)\n",
    "gamma=(0.001,0.01,0.1,10,100,1000)\n",
    "coef=np.linspace(-10,10,20)\n",
    "\n",
    "\n",
    "#sigmoid kernel parameters\n",
    "parameters_SVM_sigmoid= {\n",
    "    'C':C,\n",
    "    'kernel': ['sigmoid'],\n",
    "    'gamma':gamma,\n",
    "    'coef0':coef   \n",
    "}      \n",
    "\n",
    "# with GridSearch\n",
    "grid_search = GridSearchCV(\n",
    "    estimator=estimator_SVC,\n",
    "    param_grid=parameters_SVM_sigmoid,\n",
    "    scoring = 'accuracy',\n",
    "    cv=RepeatedStratifiedKFold(n_splits=5, n_repeats=10, random_state=0),\n",
    "    n_jobs=-1,\n",
    "    return_train_score = True,\n",
    "    refit=True,\n",
    "    \n",
    ")\n",
    "\n",
    "grid_search_2 = GridSearchCV(\n",
    "    estimator=estimator_SVC,\n",
    "    param_grid=parameters_SVM_sigmoid,\n",
    "    scoring = 'accuracy',\n",
    "    cv=RepeatedStratifiedKFold(n_splits=5, n_repeats=10, random_state=0),\n",
    "    n_jobs=-1,\n",
    "    return_train_score = True,\n",
    "    refit=True,\n",
    ")\n",
    "\n",
    "SVM_1=grid_search.fit(x_train, y_train)\n",
    "SVM_2=grid_search_2.fit(x_train_not_enc, y_train)"
   ]
  },
  {
   "cell_type": "code",
   "execution_count": 8,
   "metadata": {},
   "outputs": [
    {
     "name": "stdout",
     "output_type": "stream",
     "text": [
      "encoded {'C': 545.5594781168514, 'coef0': -1.578947368421053, 'gamma': 0.1, 'kernel': 'sigmoid'}\n",
      "not encoded {'C': 10000.0, 'coef0': -6.842105263157895, 'gamma': 0.1, 'kernel': 'sigmoid'}\n",
      "Best Score Encoded - Validation: 0.7163992869875223\n",
      "Best Score not Encoded- Validation: 0.6746880570409983\n",
      "\n",
      " best model: encoded \n",
      "\n",
      "Train accuracy: 1.0 +/- 0.0\n",
      "validation accuracy: 0.7163992869875223 +/- 0.11476843394303232\n"
     ]
    }
   ],
   "source": [
    "print('encoded',SVM_1.best_params_)\n",
    "print('not encoded',SVM_2.best_params_) \n",
    "\n",
    "best1=SVM_1.best_score_\n",
    "best2=SVM_2.best_score_\n",
    "\n",
    "print('Best Score Encoded - Validation:', best1 )\n",
    "print('Best Score not Encoded- Validation:', best2 )\n",
    "\n",
    "if best1>best2:\n",
    "    SVM_sigmoid=SVM_1\n",
    "    enc_sigmoid='Yes'\n",
    "    print('\\n best model: encoded \\n')\n",
    "else:\n",
    "    SVM_sigmoid=SVM_2\n",
    "    enc_sigmoid='No'\n",
    "    print('\\n best model: not encoded \\n')\n",
    "\n",
    "cv_results_df = pd.DataFrame(SVM_sigmoid.cv_results_)\n",
    "best_model_index=SVM_sigmoid.best_index_\n",
    "\n",
    "val_acc=cv_results_df['mean_test_score'][best_model_index]\n",
    "val_std=cv_results_df['std_test_score'][best_model_index]\n",
    "train_acc=cv_results_df['mean_train_score'][best_model_index]\n",
    "train_std=cv_results_df['std_train_score'][best_model_index]\n",
    "\n",
    "print('Train accuracy:',train_acc,'+/-', train_std)\n",
    "print('validation accuracy:',val_acc,'+/-', val_std)\n",
    "\n",
    "best_model_kernel.append(SVM_sigmoid)\n",
    "enc.append(enc_sigmoid)"
   ]
  },
  {
   "cell_type": "markdown",
   "metadata": {},
   "source": [
    "## Final model selection"
   ]
  },
  {
   "cell_type": "code",
   "execution_count": 9,
   "metadata": {},
   "outputs": [
    {
     "name": "stdout",
     "output_type": "stream",
     "text": [
      "{'C': 10.0, 'coef0': -5.0, 'degree': 2, 'gamma': 3.981071705534969, 'kernel': 'poly', 'max_iter': 100000}\n"
     ]
    }
   ],
   "source": [
    "val_acc=[]\n",
    "for model in best_model_kernel:\n",
    "    val_acc.append(model.best_score_)\n",
    "\n",
    "SVM=best_model_kernel[np.argmax(np.array(val_acc))]\n",
    "e=enc[np.argmax(np.array(val_acc))]\n",
    "print('best_params',SVM.best_params_)\n",
    "print('encoded:',e)"
   ]
  },
  {
   "cell_type": "markdown",
   "metadata": {},
   "source": [
    "## Model assessment"
   ]
  },
  {
   "cell_type": "code",
   "execution_count": 10,
   "metadata": {},
   "outputs": [
    {
     "name": "stdout",
     "output_type": "stream",
     "text": [
      "Accuracy Score - KNN - Test-error: 1.0\n",
      "\n",
      " Classification report               precision    recall  f1-score   support\n",
      "\n",
      "           0       1.00      1.00      1.00       290\n",
      "           1       1.00      1.00      1.00       142\n",
      "\n",
      "    accuracy                           1.00       432\n",
      "   macro avg       1.00      1.00      1.00       432\n",
      "weighted avg       1.00      1.00      1.00       432\n",
      "\n"
     ]
    },
    {
     "data": {
      "image/png": "[encoded data removed]",
      "text/plain": [
       "<Figure size 640x480 with 2 Axes>"
      ]
     },
     "metadata": {},
     "output_type": "display_data"
    }
   ],
   "source": [
    "SVM=SVM_poly\n",
    "y_pred =SVM.predict(x_test)\n",
    "\n",
    "print('Accuracy Score - KNN - Test-error:', metrics.accuracy_score(y_test, y_pred))  \n",
    "\n",
    "print('\\n Classification report',metrics.classification_report(y_test, y_pred))\n",
    "\n",
    "cm = metrics.confusion_matrix(y_test, y_pred, labels=SVM.classes_)\n",
    "disp = metrics.ConfusionMatrixDisplay(confusion_matrix=cm,\n",
    "                               display_labels=SVM.classes_)\n",
    "disp.plot()\n",
    "plt.show()"
   ]
  }
 ],
 "metadata": {
  "kernelspec": {
   "display_name": "Python 3",
   "language": "python",
   "name": "python3"
  },
  "language_info": {
   "codemirror_mode": {
    "name": "ipython",
    "version": 3
   },
   "file_extension": ".py",
   "mimetype": "text/x-python",
   "name": "python",
   "nbconvert_exporter": "python",
   "pygments_lexer": "ipython3",
   "version": "3.10.12"
  }
 },
 "nbformat": 4,
 "nbformat_minor": 2
}
