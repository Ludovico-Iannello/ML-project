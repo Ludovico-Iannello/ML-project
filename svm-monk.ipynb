{
 "cells": [
  {
   "cell_type": "code",
   "execution_count": 2,
   "metadata": {},
   "outputs": [],
   "source": [
    "import matplotlib.pyplot as plt\n",
    "import numpy as np\n",
    "import pandas as pd\n",
    "from sklearn.model_selection import GridSearchCV\n",
    "\n",
    "from sklearn import metrics \n",
    "from sklearn.model_selection import RepeatedStratifiedKFold\n",
    "from sklearn.svm import SVC\n",
    "from sklearn.preprocessing import StandardScaler"
   ]
  },
  {
   "cell_type": "code",
   "execution_count": 3,
   "metadata": {},
   "outputs": [],
   "source": [
    "path=r'D:\\ML-project\\data/monks-2'\n",
    "monk1_train = pd.read_csv(path+'.train', header=None, delim_whitespace=True, dtype=str)\n",
    "monk1_test = pd.read_csv(path+'.test', header=None, delim_whitespace=True, dtype=str)\n",
    "\n",
    "y_train=monk1_train[0]\n",
    "x_train=monk1_train[monk1_train.columns[1:-1]]\n",
    "\n",
    "y_test=monk1_test[0]\n",
    "x_test=monk1_test[monk1_train.columns[1:-1]]\n",
    "\n",
    "x_train=pd.get_dummies(x_train)\n",
    "x_test=pd.get_dummies(x_test)\n",
    "\n",
    "scaler = StandardScaler()\n",
    "x_train_scaled = scaler.fit_transform(x_train)\n",
    "x_test_scaled = scaler.fit_transform(x_test)"
   ]
  },
  {
   "cell_type": "markdown",
   "metadata": {},
   "source": [
    "## SVM polinomial "
   ]
  },
  {
   "cell_type": "code",
   "execution_count": 102,
   "metadata": {},
   "outputs": [
    {
     "data": {
      "text/plain": [
       "array([1.00000000e-04, 5.62341325e-03, 3.16227766e-01, 1.77827941e+01,\n",
       "       1.00000000e+03])"
      ]
     },
     "execution_count": 102,
     "metadata": {},
     "output_type": "execute_result"
    }
   ],
   "source": [
    "estimator_svm = SVC()\n",
    "\n",
    "C=np.logspace(-4,3,5)\n",
    "\n",
    "gamma=np.logspace(-4,3,5)\n",
    "\n",
    "coef=np.linspace(-10,10,5)\n",
    "\n",
    "deg=np.arange(1,3,1)\n",
    "\n",
    "parameters_SVM_poly= {\n",
    "    'C':C,\n",
    "    'kernel': ['poly'],\n",
    "    'gamma':gamma,\n",
    "    'coef0':coef ,\n",
    "    'degree':deg   \n",
    "}      \n",
    "\n",
    "\n",
    "# with GridSearch\n",
    "grid_search_SVM_poly = GridSearchCV(\n",
    "    estimator=estimator_svm,\n",
    "    param_grid=parameters_SVM_poly,\n",
    "    scoring = 'accuracy',\n",
    "    cv=RepeatedStratifiedKFold(n_splits=5, n_repeats=10, random_state=0),\n",
    "    n_jobs=-1,\n",
    "    return_train_score = True\n",
    ")\n",
    "C"
   ]
  },
  {
   "cell_type": "code",
   "execution_count": 103,
   "metadata": {},
   "outputs": [],
   "source": [
    "SVM=grid_search_SVM_poly.fit(x_train, y_train)\n",
    "print(grid_search_SVM_poly.best_params_) \n",
    "print('Best Score - Validation:', grid_search_SVM_poly.best_score_ )\n",
    "\n",
    "y_pred_SVM =SVM.predict(x_test)\n",
    "\n",
    "print('Accuracy Score - SVM - Test-error:', metrics.accuracy_score(y_test, y_pred_SVM))\n",
    "cv_results_df = pd.DataFrame(grid_search_SVM_poly.cv_results_)\n",
    "cv_results_df[['param_C','param_gamma','mean_test_score' ]]\n"
   ]
  },
  {
   "cell_type": "markdown",
   "metadata": {},
   "source": [
    "## SVM RBF"
   ]
  },
  {
   "cell_type": "code",
   "execution_count": 70,
   "metadata": {},
   "outputs": [],
   "source": [
    "estimator_svm = SVC()\n",
    "C=np.logspace(-4,3,20)\n",
    "\n",
    "gamma=(0.001,0.01,0.1,1,5,10)\n",
    "\n",
    "\n",
    "#rbf kernel parameters\n",
    "parameters_SVM_rbf= {\n",
    "    'C':C,\n",
    "    'kernel': ['rbf'],\n",
    "    'gamma':gamma\n",
    "}      \n",
    "\n",
    "grid_search_SVM_rbf = GridSearchCV(\n",
    "    estimator=estimator_svm,\n",
    "    param_grid=parameters_SVM_rbf,\n",
    "    scoring = 'accuracy',\n",
    "    cv=RepeatedStratifiedKFold(n_splits=5, n_repeats=10, random_state=0),\n",
    "    n_jobs=-1,\n",
    "    return_train_score = True\n",
    ")\n"
   ]
  },
  {
   "cell_type": "code",
   "execution_count": 71,
   "metadata": {},
   "outputs": [
    {
     "name": "stdout",
     "output_type": "stream",
     "text": [
      "{'C': 183.29807108324337, 'gamma': 0.1, 'kernel': 'rbf'}\n",
      "Best Score - Validation: 0.7072727272727274\n",
      "Accuracy Score - SVM - Test-error: 0.8148148148148148\n"
     ]
    }
   ],
   "source": [
    "SVM=grid_search_SVM_rbf.fit(x_train, y_train)\n",
    "print(grid_search_SVM_rbf.best_params_) \n",
    "print('Best Score - Validation:', grid_search_SVM_rbf.best_score_ )\n",
    "\n",
    "y_pred_SVM =SVM.predict(x_test)\n",
    "\n",
    "print('Accuracy Score - SVM - Test-error:', metrics.accuracy_score(y_test, y_pred_SVM))\n",
    "cv_results_df = pd.DataFrame(grid_search_SVM_rbf.cv_results_)\n",
    "cv_results_df[['param_C','param_gamma','mean_test_score' ]]\n"
   ]
  },
  {
   "cell_type": "markdown",
   "metadata": {},
   "source": [
    "## SVM sigmoid"
   ]
  },
  {
   "cell_type": "code",
   "execution_count": null,
   "metadata": {},
   "outputs": [],
   "source": [
    "estimator_svm = SVC()\n",
    "C=np.logspace(-4,3,10)\n",
    "gamma=np.logspace(-4,3,10)\n",
    "coef=np.linspace(0,10,3)\n",
    "\n",
    "\n",
    "#sigmoid kernel parameters\n",
    "parameters_SVM_sigmoid= {\n",
    "    'C':C,\n",
    "    'kernel': ['sigmoid'],\n",
    "    'gamma':gamma,\n",
    "    'coef0':coef   \n",
    "}      \n",
    "\n",
    "\n",
    "grid_search_SVM_sigmoid= GridSearchCV(\n",
    "    estimator=estimator_svm,\n",
    "    param_grid=parameters_SVM_sigmoid,\n",
    "    scoring = 'accuracy',\n",
    "    cv=RepeatedStratifiedKFold(n_splits=5, n_repeats=10, random_state=0),\n",
    "    n_jobs=-1,\n",
    "    return_train_score = True\n",
    ")"
   ]
  },
  {
   "cell_type": "code",
   "execution_count": null,
   "metadata": {},
   "outputs": [],
   "source": [
    "SVM=grid_search_SVM.fit(x_train, y_train)\n",
    "print(grid_search_SVM.best_params_) \n",
    "print('Best Score - Validation:', grid_search_SVM.best_score_ )\n",
    "\n",
    "y_pred_SVM =SVM.predict(x_test)\n",
    "\n",
    "print('Accuracy Score - KNN - Test-error:', metrics.accuracy_score(y_test, y_pred_SVM))"
   ]
  },
  {
   "cell_type": "code",
   "execution_count": 49,
   "metadata": {},
   "outputs": [
    {
     "data": {
      "text/html": [
       "<div>\n",
       "<style scoped>\n",
       "    .dataframe tbody tr th:only-of-type {\n",
       "        vertical-align: middle;\n",
       "    }\n",
       "\n",
       "    .dataframe tbody tr th {\n",
       "        vertical-align: top;\n",
       "    }\n",
       "\n",
       "    .dataframe thead th {\n",
       "        text-align: right;\n",
       "    }\n",
       "</style>\n",
       "<table border=\"1\" class=\"dataframe\">\n",
       "  <thead>\n",
       "    <tr style=\"text-align: right;\">\n",
       "      <th></th>\n",
       "      <th>params</th>\n",
       "      <th>mean_test_score</th>\n",
       "      <th>mean_train_score</th>\n",
       "      <th>std_train_score</th>\n",
       "    </tr>\n",
       "  </thead>\n",
       "  <tbody>\n",
       "    <tr>\n",
       "      <th>0</th>\n",
       "      <td>{'C': 0.1, 'coef0': 0.0, 'degree': 1, 'gamma':...</td>\n",
       "      <td>0.621390</td>\n",
       "      <td>0.621307</td>\n",
       "      <td>0.00183</td>\n",
       "    </tr>\n",
       "    <tr>\n",
       "      <th>1</th>\n",
       "      <td>{'C': 0.1, 'coef0': 0.0, 'degree': 1, 'gamma':...</td>\n",
       "      <td>0.621390</td>\n",
       "      <td>0.621307</td>\n",
       "      <td>0.00183</td>\n",
       "    </tr>\n",
       "    <tr>\n",
       "      <th>2</th>\n",
       "      <td>{'C': 0.1, 'coef0': 0.0, 'degree': 1, 'gamma':...</td>\n",
       "      <td>0.621390</td>\n",
       "      <td>0.621307</td>\n",
       "      <td>0.00183</td>\n",
       "    </tr>\n",
       "    <tr>\n",
       "      <th>3</th>\n",
       "      <td>{'C': 0.1, 'coef0': 0.0, 'degree': 1, 'gamma':...</td>\n",
       "      <td>0.621390</td>\n",
       "      <td>0.621307</td>\n",
       "      <td>0.00183</td>\n",
       "    </tr>\n",
       "    <tr>\n",
       "      <th>4</th>\n",
       "      <td>{'C': 0.1, 'coef0': 0.0, 'degree': 1, 'gamma':...</td>\n",
       "      <td>0.621390</td>\n",
       "      <td>0.621307</td>\n",
       "      <td>0.00183</td>\n",
       "    </tr>\n",
       "    <tr>\n",
       "      <th>...</th>\n",
       "      <td>...</td>\n",
       "      <td>...</td>\n",
       "      <td>...</td>\n",
       "      <td>...</td>\n",
       "    </tr>\n",
       "    <tr>\n",
       "      <th>319</th>\n",
       "      <td>{'C': 100.0, 'coef0': 10.0, 'degree': 7, 'gamm...</td>\n",
       "      <td>0.587094</td>\n",
       "      <td>1.000000</td>\n",
       "      <td>0.00000</td>\n",
       "    </tr>\n",
       "    <tr>\n",
       "      <th>320</th>\n",
       "      <td>{'C': 100.0, 'coef0': 10.0, 'degree': 7, 'gamm...</td>\n",
       "      <td>0.621390</td>\n",
       "      <td>0.621307</td>\n",
       "      <td>0.00183</td>\n",
       "    </tr>\n",
       "    <tr>\n",
       "      <th>321</th>\n",
       "      <td>{'C': 100.0, 'coef0': 10.0, 'degree': 7, 'gamm...</td>\n",
       "      <td>0.585918</td>\n",
       "      <td>1.000000</td>\n",
       "      <td>0.00000</td>\n",
       "    </tr>\n",
       "    <tr>\n",
       "      <th>322</th>\n",
       "      <td>{'C': 100.0, 'coef0': 10.0, 'degree': 7, 'gamm...</td>\n",
       "      <td>0.621390</td>\n",
       "      <td>1.000000</td>\n",
       "      <td>0.00000</td>\n",
       "    </tr>\n",
       "    <tr>\n",
       "      <th>323</th>\n",
       "      <td>{'C': 100.0, 'coef0': 10.0, 'degree': 7, 'gamm...</td>\n",
       "      <td>0.621390</td>\n",
       "      <td>0.621307</td>\n",
       "      <td>0.00183</td>\n",
       "    </tr>\n",
       "  </tbody>\n",
       "</table>\n",
       "<p>324 rows × 4 columns</p>\n",
       "</div>"
      ],
      "text/plain": [
       "                                                params  mean_test_score  \\\n",
       "0    {'C': 0.1, 'coef0': 0.0, 'degree': 1, 'gamma':...         0.621390   \n",
       "1    {'C': 0.1, 'coef0': 0.0, 'degree': 1, 'gamma':...         0.621390   \n",
       "2    {'C': 0.1, 'coef0': 0.0, 'degree': 1, 'gamma':...         0.621390   \n",
       "3    {'C': 0.1, 'coef0': 0.0, 'degree': 1, 'gamma':...         0.621390   \n",
       "4    {'C': 0.1, 'coef0': 0.0, 'degree': 1, 'gamma':...         0.621390   \n",
       "..                                                 ...              ...   \n",
       "319  {'C': 100.0, 'coef0': 10.0, 'degree': 7, 'gamm...         0.587094   \n",
       "320  {'C': 100.0, 'coef0': 10.0, 'degree': 7, 'gamm...         0.621390   \n",
       "321  {'C': 100.0, 'coef0': 10.0, 'degree': 7, 'gamm...         0.585918   \n",
       "322  {'C': 100.0, 'coef0': 10.0, 'degree': 7, 'gamm...         0.621390   \n",
       "323  {'C': 100.0, 'coef0': 10.0, 'degree': 7, 'gamm...         0.621390   \n",
       "\n",
       "     mean_train_score  std_train_score  \n",
       "0            0.621307          0.00183  \n",
       "1            0.621307          0.00183  \n",
       "2            0.621307          0.00183  \n",
       "3            0.621307          0.00183  \n",
       "4            0.621307          0.00183  \n",
       "..                ...              ...  \n",
       "319          1.000000          0.00000  \n",
       "320          0.621307          0.00183  \n",
       "321          1.000000          0.00000  \n",
       "322          1.000000          0.00000  \n",
       "323          0.621307          0.00183  \n",
       "\n",
       "[324 rows x 4 columns]"
      ]
     },
     "execution_count": 49,
     "metadata": {},
     "output_type": "execute_result"
    }
   ],
   "source": [
    "cv_results_df = pd.DataFrame(grid_search_SVM.cv_results_)\n",
    "cv_results_df[[ 'params', 'mean_test_score',  'mean_train_score', 'std_train_score']]"
   ]
  }
 ],
 "metadata": {
  "kernelspec": {
   "display_name": "Python 3",
   "language": "python",
   "name": "python3"
  },
  "language_info": {
   "codemirror_mode": {
    "name": "ipython",
    "version": 3
   },
   "file_extension": ".py",
   "mimetype": "text/x-python",
   "name": "python",
   "nbconvert_exporter": "python",
   "pygments_lexer": "ipython3",
   "version": "3.11.4"
  }
 },
 "nbformat": 4,
 "nbformat_minor": 2
}
